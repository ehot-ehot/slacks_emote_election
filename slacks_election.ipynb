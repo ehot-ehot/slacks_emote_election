{
 "cells": [
  {
   "cell_type": "markdown",
   "metadata": {},
   "source": [
    "# Did Chester rig the election?\n",
    "### lets find out"
   ]
  },
  {
   "cell_type": "code",
   "execution_count": 1,
   "metadata": {},
   "outputs": [],
   "source": [
    "import pandas as pd\n",
    "import json"
   ]
  },
  {
   "cell_type": "markdown",
   "metadata": {},
   "source": [
    "## We use twitch chat data for subber sunday stream from 4:33:27 to 4:37:30\n",
    "## data is a json format"
   ]
  },
  {
   "cell_type": "code",
   "execution_count": 11,
   "metadata": {},
   "outputs": [],
   "source": [
    "open1= open('D:/downloads/release/chat data/slacks_2.json', 'r', encoding='utf-8')"
   ]
  },
  {
   "cell_type": "code",
   "execution_count": 12,
   "metadata": {},
   "outputs": [],
   "source": [
    "json1 = json.load(open1)"
   ]
  },
  {
   "cell_type": "code",
   "execution_count": 86,
   "metadata": {},
   "outputs": [],
   "source": [
    "list_time = []\n",
    "list_name = []\n",
    "list_chat = []\n",
    "list_sub = []\n",
    "list_test = []\n",
    "\n",
    "for i in range(0, len(json1['comments'])):\n",
    "    list_time.append(json1['comments'][i]['created_at'])\n",
    "    list_name.append(json1['comments'][i]['commenter']['display_name'])\n",
    "    list_chat.append(json1['comments'][i]['message']['body'])\n",
    "    int_sub = 0\n",
    "    if 'user_badges' in json1['comments'][i]['message']:\n",
    "        for j in range(0,len(json1['comments'][i]['message']['user_badges'])):\n",
    "            if 'subscriber' in json1['comments'][i]['message']['user_badges'][j].values():\n",
    "                int_sub = 1\n",
    "    list_sub.append(int_sub)"
   ]
  },
  {
   "cell_type": "code",
   "execution_count": 87,
   "metadata": {},
   "outputs": [],
   "source": [
    "df = pd.DataFrame({'time':list_time, 'name':list_name,'chat':list_chat,'sub':list_sub})"
   ]
  },
  {
   "cell_type": "markdown",
   "metadata": {},
   "source": [
    "## Lets see what we are working with "
   ]
  },
  {
   "cell_type": "code",
   "execution_count": 88,
   "metadata": {},
   "outputs": [
    {
     "data": {
      "text/html": [
       "<div>\n",
       "<style scoped>\n",
       "    .dataframe tbody tr th:only-of-type {\n",
       "        vertical-align: middle;\n",
       "    }\n",
       "\n",
       "    .dataframe tbody tr th {\n",
       "        vertical-align: top;\n",
       "    }\n",
       "\n",
       "    .dataframe thead th {\n",
       "        text-align: right;\n",
       "    }\n",
       "</style>\n",
       "<table border=\"1\" class=\"dataframe\">\n",
       "  <thead>\n",
       "    <tr style=\"text-align: right;\">\n",
       "      <th></th>\n",
       "      <th>time</th>\n",
       "      <th>name</th>\n",
       "      <th>chat</th>\n",
       "      <th>sub</th>\n",
       "    </tr>\n",
       "  </thead>\n",
       "  <tbody>\n",
       "    <tr>\n",
       "      <th>0</th>\n",
       "      <td>2020-11-15T22:07:19.887Z</td>\n",
       "      <td>spacewolf73</td>\n",
       "      <td>!prime</td>\n",
       "      <td>1</td>\n",
       "    </tr>\n",
       "    <tr>\n",
       "      <th>1</th>\n",
       "      <td>2020-11-15T22:07:20.094Z</td>\n",
       "      <td>StreamElements</td>\n",
       "      <td>Are you a slacksFAN ? Enjoying the stream? Hav...</td>\n",
       "      <td>1</td>\n",
       "    </tr>\n",
       "    <tr>\n",
       "      <th>2</th>\n",
       "      <td>2020-11-15T22:07:22.296Z</td>\n",
       "      <td>Dopp</td>\n",
       "      <td>!vote 2</td>\n",
       "      <td>1</td>\n",
       "    </tr>\n",
       "    <tr>\n",
       "      <th>3</th>\n",
       "      <td>2020-11-15T22:07:22.79Z</td>\n",
       "      <td>ChesterLibra</td>\n",
       "      <td>@sheepsticked PepeHands</td>\n",
       "      <td>1</td>\n",
       "    </tr>\n",
       "    <tr>\n",
       "      <th>4</th>\n",
       "      <td>2020-11-15T22:07:22.886Z</td>\n",
       "      <td>Jolixia</td>\n",
       "      <td>!vote 2</td>\n",
       "      <td>1</td>\n",
       "    </tr>\n",
       "  </tbody>\n",
       "</table>\n",
       "</div>"
      ],
      "text/plain": [
       "                       time            name  \\\n",
       "0  2020-11-15T22:07:19.887Z     spacewolf73   \n",
       "1  2020-11-15T22:07:20.094Z  StreamElements   \n",
       "2  2020-11-15T22:07:22.296Z            Dopp   \n",
       "3   2020-11-15T22:07:22.79Z    ChesterLibra   \n",
       "4  2020-11-15T22:07:22.886Z         Jolixia   \n",
       "\n",
       "                                                chat  sub  \n",
       "0                                             !prime    1  \n",
       "1  Are you a slacksFAN ? Enjoying the stream? Hav...    1  \n",
       "2                                            !vote 2    1  \n",
       "3                            @sheepsticked PepeHands    1  \n",
       "4                                            !vote 2    1  "
      ]
     },
     "execution_count": 88,
     "metadata": {},
     "output_type": "execute_result"
    }
   ],
   "source": [
    "df.head()"
   ]
  },
  {
   "cell_type": "markdown",
   "metadata": {},
   "source": [
    "### column 'sub': 1 = sub, 0 = not a sub\n",
    "\n",
    "### Lets find out if someone voted more than once and tried to commit voter fraud:"
   ]
  },
  {
   "cell_type": "code",
   "execution_count": 115,
   "metadata": {},
   "outputs": [
    {
     "data": {
      "text/plain": [
       "1    50\n",
       "2    11\n",
       "3     1\n",
       "Name: name, dtype: int64"
      ]
     },
     "execution_count": 115,
     "metadata": {},
     "output_type": "execute_result"
    }
   ],
   "source": [
    "pd.DataFrame(df[df['chat'].str.contains('!vote ')]['name'].value_counts())['name'].value_counts()"
   ]
  },
  {
   "cell_type": "code",
   "execution_count": 144,
   "metadata": {},
   "outputs": [],
   "source": [
    "list_fruad = list(pd.DataFrame(df[df['chat'].str.contains('!vote ')]['name'].value_counts())['name'].value_counts())"
   ]
  },
  {
   "cell_type": "code",
   "execution_count": 147,
   "metadata": {},
   "outputs": [
    {
     "name": "stdout",
     "output_type": "stream",
     "text": [
      "Number of people that voted more than once: 12\n"
     ]
    }
   ],
   "source": [
    "print('Number of people that voted more than once: ' + str(list_fruad[1]+list_fruad[2]))"
   ]
  },
  {
   "cell_type": "markdown",
   "metadata": {},
   "source": [
    "\n",
    "### there is a clear sign of voter fraud, 12 people tried to vote more than once!\n",
    "\n",
    "\n",
    "### Also some people voted for a 3rd option, lets remove them shall we"
   ]
  },
  {
   "cell_type": "code",
   "execution_count": 117,
   "metadata": {},
   "outputs": [],
   "source": [
    "df_vote = df[df['chat'].str.contains('!vote ')]"
   ]
  },
  {
   "cell_type": "code",
   "execution_count": 127,
   "metadata": {},
   "outputs": [],
   "source": [
    "df_vote = df_vote[df_vote['chat']!='!vote 3'].reset_index(drop = True)"
   ]
  },
  {
   "cell_type": "code",
   "execution_count": 130,
   "metadata": {},
   "outputs": [],
   "source": [
    "df_vote2 = df_vote.groupby('name', as_index=False).first()"
   ]
  },
  {
   "cell_type": "markdown",
   "metadata": {},
   "source": [
    "\n",
    "### Lets take a look at how people voted after removing their additional votes with the table below\n"
   ]
  },
  {
   "cell_type": "code",
   "execution_count": 142,
   "metadata": {},
   "outputs": [
    {
     "data": {
      "text/html": [
       "<div>\n",
       "<style scoped>\n",
       "    .dataframe tbody tr th:only-of-type {\n",
       "        vertical-align: middle;\n",
       "    }\n",
       "\n",
       "    .dataframe tbody tr th {\n",
       "        vertical-align: top;\n",
       "    }\n",
       "\n",
       "    .dataframe thead th {\n",
       "        text-align: right;\n",
       "    }\n",
       "</style>\n",
       "<table border=\"1\" class=\"dataframe\">\n",
       "  <thead>\n",
       "    <tr style=\"text-align: right;\">\n",
       "      <th></th>\n",
       "      <th>name</th>\n",
       "      <th>time</th>\n",
       "      <th>chat</th>\n",
       "      <th>sub</th>\n",
       "    </tr>\n",
       "  </thead>\n",
       "  <tbody>\n",
       "    <tr>\n",
       "      <th>0</th>\n",
       "      <td>Angel2551</td>\n",
       "      <td>2020-11-15T22:09:42.745Z</td>\n",
       "      <td>!vote 1</td>\n",
       "      <td>0</td>\n",
       "    </tr>\n",
       "    <tr>\n",
       "      <th>1</th>\n",
       "      <td>Attyla11</td>\n",
       "      <td>2020-11-15T22:08:23.803Z</td>\n",
       "      <td>!vote 2</td>\n",
       "      <td>1</td>\n",
       "    </tr>\n",
       "    <tr>\n",
       "      <th>2</th>\n",
       "      <td>BaconHazardous</td>\n",
       "      <td>2020-11-15T22:07:38.117Z</td>\n",
       "      <td>!vote 1</td>\n",
       "      <td>1</td>\n",
       "    </tr>\n",
       "    <tr>\n",
       "      <th>3</th>\n",
       "      <td>Barlakopofai</td>\n",
       "      <td>2020-11-15T22:07:48.25Z</td>\n",
       "      <td>!vote 1</td>\n",
       "      <td>0</td>\n",
       "    </tr>\n",
       "    <tr>\n",
       "      <th>4</th>\n",
       "      <td>ChesterLibra</td>\n",
       "      <td>2020-11-15T22:07:27.188Z</td>\n",
       "      <td>!vote 2</td>\n",
       "      <td>1</td>\n",
       "    </tr>\n",
       "    <tr>\n",
       "      <th>...</th>\n",
       "      <td>...</td>\n",
       "      <td>...</td>\n",
       "      <td>...</td>\n",
       "      <td>...</td>\n",
       "    </tr>\n",
       "    <tr>\n",
       "      <th>56</th>\n",
       "      <td>thehooliganshow</td>\n",
       "      <td>2020-11-15T22:07:34.565Z</td>\n",
       "      <td>!vote 2</td>\n",
       "      <td>0</td>\n",
       "    </tr>\n",
       "    <tr>\n",
       "      <th>57</th>\n",
       "      <td>vailo</td>\n",
       "      <td>2020-11-15T22:07:41.932Z</td>\n",
       "      <td>!vote 2</td>\n",
       "      <td>1</td>\n",
       "    </tr>\n",
       "    <tr>\n",
       "      <th>58</th>\n",
       "      <td>wheatiesbox</td>\n",
       "      <td>2020-11-15T22:07:32.519Z</td>\n",
       "      <td>!vote 1</td>\n",
       "      <td>1</td>\n",
       "    </tr>\n",
       "    <tr>\n",
       "      <th>59</th>\n",
       "      <td>whiskey_dog</td>\n",
       "      <td>2020-11-15T22:07:40.222Z</td>\n",
       "      <td>!vote 2</td>\n",
       "      <td>1</td>\n",
       "    </tr>\n",
       "    <tr>\n",
       "      <th>60</th>\n",
       "      <td>zalathormnw</td>\n",
       "      <td>2020-11-15T22:07:27.778Z</td>\n",
       "      <td>!vote 2</td>\n",
       "      <td>1</td>\n",
       "    </tr>\n",
       "  </tbody>\n",
       "</table>\n",
       "<p>61 rows × 4 columns</p>\n",
       "</div>"
      ],
      "text/plain": [
       "               name                      time     chat  sub\n",
       "0         Angel2551  2020-11-15T22:09:42.745Z  !vote 1    0\n",
       "1          Attyla11  2020-11-15T22:08:23.803Z  !vote 2    1\n",
       "2    BaconHazardous  2020-11-15T22:07:38.117Z  !vote 1    1\n",
       "3      Barlakopofai   2020-11-15T22:07:48.25Z  !vote 1    0\n",
       "4      ChesterLibra  2020-11-15T22:07:27.188Z  !vote 2    1\n",
       "..              ...                       ...      ...  ...\n",
       "56  thehooliganshow  2020-11-15T22:07:34.565Z  !vote 2    0\n",
       "57            vailo  2020-11-15T22:07:41.932Z  !vote 2    1\n",
       "58      wheatiesbox  2020-11-15T22:07:32.519Z  !vote 1    1\n",
       "59      whiskey_dog  2020-11-15T22:07:40.222Z  !vote 2    1\n",
       "60      zalathormnw  2020-11-15T22:07:27.778Z  !vote 2    1\n",
       "\n",
       "[61 rows x 4 columns]"
      ]
     },
     "execution_count": 142,
     "metadata": {},
     "output_type": "execute_result"
    }
   ],
   "source": [
    "df_vote2"
   ]
  },
  {
   "cell_type": "code",
   "execution_count": 131,
   "metadata": {},
   "outputs": [
    {
     "data": {
      "text/plain": [
       "!vote 2    39\n",
       "!vote 1    22\n",
       "Name: chat, dtype: int64"
      ]
     },
     "execution_count": 131,
     "metadata": {},
     "output_type": "execute_result"
    }
   ],
   "source": [
    "df_vote2['chat'].value_counts()"
   ]
  },
  {
   "cell_type": "markdown",
   "metadata": {},
   "source": [
    "\n",
    "### It looks like 39 people voted 2 and 22 people voted 1\n",
    "\n",
    "### Now lets increase the weightage of votes from subs and see what we get\n"
   ]
  },
  {
   "cell_type": "code",
   "execution_count": 137,
   "metadata": {},
   "outputs": [],
   "source": [
    "int_cool_meepo = 0\n",
    "int_lore = 0\n",
    "\n",
    "for i in range(0,len(df_vote2)):\n",
    "    if df_vote2['chat'][i] == '!vote 1':\n",
    "        if df_vote2['sub'][i] == 1:\n",
    "            int_cool_meepo +=2\n",
    "        else:\n",
    "            int_cool_meepo +=1\n",
    "    if df_vote2['chat'][i] == '!vote 2':\n",
    "        if df_vote2['sub'][i] == 1:\n",
    "            int_lore +=2\n",
    "        else:\n",
    "            int_lore +=1"
   ]
  },
  {
   "cell_type": "code",
   "execution_count": 148,
   "metadata": {},
   "outputs": [
    {
     "name": "stdout",
     "output_type": "stream",
     "text": [
      "votes for Cooler Meepo: 35\n"
     ]
    }
   ],
   "source": [
    "print('votes for Cooler Meepo: ' + str(int_cool_meepo))"
   ]
  },
  {
   "cell_type": "code",
   "execution_count": 150,
   "metadata": {},
   "outputs": [
    {
     "name": "stdout",
     "output_type": "stream",
     "text": [
      "votes for Lore: 60\n"
     ]
    }
   ],
   "source": [
    "print('votes for Lore: ' + str(int_lore))"
   ]
  },
  {
   "cell_type": "code",
   "execution_count": 154,
   "metadata": {},
   "outputs": [
    {
     "name": "stdout",
     "output_type": "stream",
     "text": [
      "Percentage of votes for the lore emote: 63.1578947368421%\n"
     ]
    }
   ],
   "source": [
    "print('Percentage of votes for the lore emote: '+str((int_lore/(int_lore+int_cool_meepo))*100)+'%')"
   ]
  },
  {
   "cell_type": "code",
   "execution_count": 155,
   "metadata": {},
   "outputs": [
    {
     "name": "stdout",
     "output_type": "stream",
     "text": [
      "Percentage of votes for the cooler meepo emote: 36.84210526315789%\n"
     ]
    }
   ],
   "source": [
    "print('Percentage of votes for the cooler meepo emote: '+str((int_cool_meepo/(int_lore+int_cool_meepo))*100)+'%')"
   ]
  },
  {
   "cell_type": "markdown",
   "metadata": {},
   "source": [
    "### The lore emote won with approximately 63% votes\n",
    "### Chester did not rig the election"
   ]
  },
  {
   "cell_type": "code",
   "execution_count": null,
   "metadata": {},
   "outputs": [],
   "source": []
  }
 ],
 "metadata": {
  "kernelspec": {
   "display_name": "Python 3",
   "language": "python",
   "name": "python3"
  },
  "language_info": {
   "codemirror_mode": {
    "name": "ipython",
    "version": 3
   },
   "file_extension": ".py",
   "mimetype": "text/x-python",
   "name": "python",
   "nbconvert_exporter": "python",
   "pygments_lexer": "ipython3",
   "version": "3.7.6"
  }
 },
 "nbformat": 4,
 "nbformat_minor": 4
}
